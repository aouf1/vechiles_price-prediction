{
 "cells": [
  {
   "cell_type": "code",
   "execution_count": 1,
   "id": "e9b70f74-67dd-47db-a226-6bcb7d686caf",
   "metadata": {},
   "outputs": [],
   "source": [
    "import pandas as pd\n",
    "import numpy as np\n",
    "import seaborn as sns\n",
    "import matplotlib.pyplot as plt\n",
    "from sklearn.model_selection import train_test_split\n",
    "from sklearn.preprocessing import OneHotEncoder, StandardScaler\n",
    "from sklearn.feature_extraction.text import TfidfVectorizer\n",
    "from sklearn.pipeline import Pipeline\n",
    "from sklearn.linear_model import LinearRegression\n",
    "from sklearn.feature_selection import RFE\n",
    "from sklearn.metrics import r2_score, mean_squared_error, mean_absolute_error\n",
    "import numpy as np\n",
    "from sklearn.preprocessing import PolynomialFeatures\n",
    "from sklearn.decomposition import TruncatedSVD\n",
    "import joblib"
   ]
  },
  {
   "cell_type": "code",
   "execution_count": 2,
   "id": "8b156ea4-8fd3-4c7f-8b44-9424e506af48",
   "metadata": {},
   "outputs": [],
   "source": [
    "train=pd.read_csv(r\"C:\\Users\\HP\\Desktop\\vechiles\\selected_features.csv\")\n",
    "test=pd.read_csv(r\"C:\\Users\\HP\\Desktop\\vechiles\\test.csv\")\n"
   ]
  },
  {
   "cell_type": "code",
   "execution_count": 3,
   "id": "309093c3-948e-4b7e-9cb3-42d32eaaa4c6",
   "metadata": {},
   "outputs": [
    {
     "name": "stdout",
     "output_type": "stream",
     "text": [
      "{'name': '2023 Dodge Durango Pursuit', 'description': 'nan', 'make': 'Jeep', 'model': 'Hornet', 'year': 2024, 'price': 50729.68974358974, 'engine': '16V GDI DOHC Turbo', 'cylinders': 4.0, 'fuel': 'Gasoline', 'mileage': 8.0, 'transmission': '8-Speed Automatic', 'trim': 'Limited', 'body': 'SUV', 'doors': 4.0, 'exterior_color': 'Bright White Clearcoat', 'interior_color': 'Black', 'drivetrain': 'All-wheel Drive'}\n"
     ]
    }
   ],
   "source": [
    "imputer_values = joblib.load('imputer_values.pkl')\n",
    "print(imputer_values)"
   ]
  },
  {
   "cell_type": "code",
   "execution_count": 4,
   "id": "0703811d-4bd2-4564-94e5-445fd03f7d5e",
   "metadata": {},
   "outputs": [],
   "source": [
    "def fill_nulls(df, default_values):\n",
    "    for col in df.columns:\n",
    "        if col in default_values:\n",
    "            df[col] = df[col].fillna(default_values[col])\n",
    "    \n",
    "test1=fill_nulls(test,imputer_values)"
   ]
  },
  {
   "cell_type": "code",
   "execution_count": 5,
   "id": "10ca2e8d-6dcf-4266-85f5-21753c458aae",
   "metadata": {},
   "outputs": [
    {
     "data": {
      "text/plain": [
       "{'lower_bound': -8.0, 'upper_bound': 24.0, 'median': 8.0}"
      ]
     },
     "execution_count": 5,
     "metadata": {},
     "output_type": "execute_result"
    }
   ],
   "source": [
    "stats = joblib.load('mileage_outlier_stats.pkl')\n",
    "stats"
   ]
  },
  {
   "cell_type": "code",
   "execution_count": 6,
   "id": "e43b5e51-04b1-447f-a943-6e32f7626ec5",
   "metadata": {},
   "outputs": [],
   "source": [
    "test['mileage'] = test['mileage'].apply(lambda x: stats['median'] if x < stats['lower_bound'] or x > stats['upper_bound'] else x)"
   ]
  },
  {
   "cell_type": "code",
   "execution_count": 7,
   "id": "1c0f4284-903e-4061-8572-98d7a11a4c7e",
   "metadata": {},
   "outputs": [
    {
     "data": {
      "text/plain": [
       "{'lower_bound': 1.0, 'upper_bound': 9.0, 'median': 4.0}"
      ]
     },
     "execution_count": 7,
     "metadata": {},
     "output_type": "execute_result"
    }
   ],
   "source": [
    "stat = joblib.load('cylinders_outlier_stats.pkl')\n",
    "stat"
   ]
  },
  {
   "cell_type": "code",
   "execution_count": 8,
   "id": "90636c46-46ae-4c86-b90e-ad22add68f21",
   "metadata": {},
   "outputs": [],
   "source": [
    "test['cylinders'] = test['cylinders'].apply(lambda x: stat['median'] if x < stat['lower_bound'] or x > stat['upper_bound'] else x)\n"
   ]
  },
  {
   "cell_type": "code",
   "execution_count": 9,
   "id": "b5f29661-f128-4508-ba44-6fb139f8ae11",
   "metadata": {},
   "outputs": [],
   "source": [
    "def interior_colors(color):\n",
    "    color = str(color).lower()  # make case-insensitive\n",
    "    if 'black' in color:\n",
    "        return 'Black'\n",
    "    elif 'brown' in color:\n",
    "        return 'Brown'\n",
    "    elif 'gray' in color or 'grey' in color:\n",
    "        return 'Gray'\n",
    "    elif 'sandstone' in color:\n",
    "        return 'Sandstone'\n",
    "    elif 'java' in color:\n",
    "        return 'Java'\n",
    "    elif 'palazzo' in color:\n",
    "        return 'Palazzo'\n",
    "    elif 'volcano' in color:\n",
    "        return 'Volcano'\n",
    "    elif 'ebony' in color:\n",
    "        return 'Ebony'\n",
    "    elif 'red' in color:\n",
    "        return 'Red'\n",
    "    elif 'dark' in color:\n",
    "        return 'Dark'\n",
    "    elif 'blue' in color:\n",
    "        return 'Blue'\n",
    "    elif 'premium' in color:\n",
    "        return 'Premium'\n",
    "    else:\n",
    "        return color.title()  # capitalize other colors nicely\n",
    "\n",
    "test['interior_color'] = test['interior_color'].apply(interior_colors)"
   ]
  },
  {
   "cell_type": "code",
   "execution_count": 10,
   "id": "0642499e-38b3-44c3-aa34-f2d52860053b",
   "metadata": {},
   "outputs": [],
   "source": [
    "def exterior_colors(color):\n",
    "    color = str(color).lower()  # make case-insensitive\n",
    "    if 'black' in color:\n",
    "        return 'Black'\n",
    "    elif 'brown' in color:\n",
    "        return 'Brown'\n",
    "    elif 'gray' in color or 'grey' in color:\n",
    "        return 'Gray'\n",
    "    elif 'sandstone' in color:\n",
    "        return 'Sandstone'\n",
    "    elif 'java' in color:\n",
    "        return 'Java'\n",
    "    elif 'palazzo' in color:\n",
    "        return 'Palazzo'\n",
    "    elif 'volcano' in color:\n",
    "        return 'Volcano'\n",
    "    elif 'ebony' in color:\n",
    "        return 'Ebony'\n",
    "    elif 'red' in color:\n",
    "        return 'Red'\n",
    "    elif 'dark' in color:\n",
    "        return 'Dark'\n",
    "    elif 'blue' in color:\n",
    "        return 'Blue'\n",
    "    elif 'premium' in color:\n",
    "        return 'Premium'\n",
    "    elif 'white' in color:\n",
    "        return 'White'\n",
    "    elif 'silver' in color:\n",
    "        return 'Silver'\n",
    "    elif 'yellow' in color:\n",
    "        return 'Yellow'\n",
    "    elif 'bronze' in color:\n",
    "        return 'Bronze'\n",
    "    elif 'green' in color:\n",
    "        return 'Green'\n",
    "    elif 'metallic' in color:\n",
    "        return 'Metallic'\n",
    "    else:\n",
    "        return color.title()  # capitalize other colors nicely\n",
    "\n",
    "test['exterior_color'] = test['exterior_color'].apply(exterior_colors)"
   ]
  },
  {
   "cell_type": "code",
   "execution_count": 11,
   "id": "f5894aa4-2276-43f0-8148-b07ca80317c6",
   "metadata": {},
   "outputs": [],
   "source": [
    "def model(model):\n",
    "    model = str(model).lower()  # make case-insensitive\n",
    "    if 'grand cherokee' in model:\n",
    "        return 'Grand Cherokee'\n",
    "    elif 'wagoneer' in model:\n",
    "        return 'Wagoneer'\n",
    "    elif 'wrangler' in model:\n",
    "        return 'Wrangler'\n",
    "    else:\n",
    "        return model.title()  # capitalize other models nicely\n",
    "\n",
    "test['model'] = test['model'].apply(model)"
   ]
  },
  {
   "cell_type": "code",
   "execution_count": 12,
   "id": "f1fb8ca7-1d6a-4832-b8c1-350a7449fbe8",
   "metadata": {},
   "outputs": [],
   "source": [
    "def engine(engine):\n",
    "    \n",
    "    engine = str(engine).lower()  # make case-insensitive\n",
    "    if 'turbo' in engine:\n",
    "        return 'Turbo'\n",
    "    elif 'sohc' in engine:\n",
    "        return 'SOHC'\n",
    "    elif 'dohc' in engine:\n",
    "        return 'DOHC'\n",
    "    elif 'ohv' in engine:\n",
    "        return 'Ohv'\n",
    "    else:\n",
    "        return engine.title()  # capitalize other models nicely\n",
    "\n",
    "test['engine'] = test['engine'].apply(engine)"
   ]
  },
  {
   "cell_type": "code",
   "execution_count": 13,
   "id": "a8fbdd46-9d51-470e-9a81-244214924eec",
   "metadata": {},
   "outputs": [],
   "source": [
    "def transmission_type(trans):\n",
    "    trans = str(trans).lower().strip()\n",
    "\n",
    "    if 'battery' in trans or 'kwh' in trans:\n",
    "        return 'Automatic'\n",
    "    if 'cvt' in trans or 'variable' in trans:\n",
    "        return 'CVT'\n",
    "    elif 'dual clutch' in trans:\n",
    "        return 'Dual-Clutch'\n",
    "    elif 'manual' in trans:\n",
    "        return 'Manual'\n",
    "    elif 'automatic' in trans or 'a/t' in trans or 'auto trans' in trans:\n",
    "        return 'Automatic'    \n",
    "    else:\n",
    "        return trans.title()  # keep other types capitalized\n",
    "\n",
    "test['transmission'] = test['transmission'].apply(transmission_type)\n"
   ]
  },
  {
   "cell_type": "code",
   "execution_count": 14,
   "id": "4243eba2-48ab-442b-ad76-06668f7d4462",
   "metadata": {},
   "outputs": [],
   "source": [
    "freq_mappings = joblib.load('freq_mappings.pkl')\n",
    "for col, mapping in freq_mappings.items():\n",
    "    if col in test.columns:\n",
    "        test[col] = test[col].map(mapping).fillna(0)"
   ]
  },
  {
   "cell_type": "code",
   "execution_count": 15,
   "id": "0acdee23-6b1a-4588-8053-0746a6ea70e2",
   "metadata": {},
   "outputs": [
    {
     "data": {
      "text/plain": [
       "dict_keys(['make', 'model', 'trim', 'exterior_color', 'interior_color'])"
      ]
     },
     "execution_count": 15,
     "metadata": {},
     "output_type": "execute_result"
    }
   ],
   "source": [
    "freq_mappings.keys()"
   ]
  },
  {
   "cell_type": "code",
   "execution_count": 16,
   "id": "6c211f57-6312-44e2-8344-be7aa02a5cd8",
   "metadata": {},
   "outputs": [],
   "source": [
    "ohe = joblib.load('onehot_encoder.pkl')\n",
    "low_card_cat_features = ['engine', 'fuel', 'transmission', 'body', 'drivetrain']\n",
    "# Now ohe is ready to use for transforming new data\n",
    "# Example: transforming test DataFrame\n",
    "low_card_encoded_test = pd.DataFrame(\n",
    "    ohe.transform(test[low_card_cat_features]),\n",
    "    columns=ohe.get_feature_names_out(low_card_cat_features),\n",
    "    index=test.index\n",
    ")\n",
    "\n",
    "test = test.drop(columns=low_card_cat_features).join(low_card_encoded_test)"
   ]
  },
  {
   "cell_type": "code",
   "execution_count": 17,
   "id": "b7f0503c-4ec7-491c-a0c6-de3f97734398",
   "metadata": {},
   "outputs": [],
   "source": [
    "test = test.drop(columns='description' )\n",
    "test = test.drop(columns='name' )"
   ]
  },
  {
   "cell_type": "code",
   "execution_count": 18,
   "id": "36ed67ff-7a74-4cf3-bc8e-cc402dac7be5",
   "metadata": {},
   "outputs": [],
   "source": [
    "scaler = joblib.load('scaler.pkl')\n",
    "\n",
    "# Specify the same columns to exclude\n",
    "exclude_cols = ['year', 'price']\n",
    "cols_to_scale = test.columns.difference(exclude_cols)\n",
    "\n",
    "# Apply scaling to test data\n",
    "test[cols_to_scale] = scaler.transform(test[cols_to_scale])"
   ]
  },
  {
   "cell_type": "code",
   "execution_count": 19,
   "id": "6ad611ca-a4e2-454c-aa45-70e395db8bd8",
   "metadata": {},
   "outputs": [],
   "source": [
    "selected_columns = train['Selected_Features'].tolist() + ['price']\n"
   ]
  },
  {
   "cell_type": "code",
   "execution_count": 20,
   "id": "0b986bad-078d-4b59-b33e-88ba62b8808c",
   "metadata": {},
   "outputs": [],
   "source": [
    "test=test[selected_columns]"
   ]
  },
  {
   "cell_type": "code",
   "execution_count": 21,
   "id": "d78b03b7-226b-4917-9bf6-20ac9cd93d2b",
   "metadata": {},
   "outputs": [
    {
     "data": {
      "text/plain": [
       "Index(['make', 'model', 'cylinders', 'mileage', 'trim', 'exterior_color',\n",
       "       'interior_color', 'engine_DOHC', 'engine_Ohv', 'engine_Turbo',\n",
       "       'fuel_Diesel', 'fuel_Gasoline', 'drivetrain_All-wheel Drive',\n",
       "       'drivetrain_Four-wheel Drive', 'drivetrain_Front-wheel Drive', 'price'],\n",
       "      dtype='object')"
      ]
     },
     "execution_count": 21,
     "metadata": {},
     "output_type": "execute_result"
    }
   ],
   "source": [
    "test.columns"
   ]
  },
  {
   "cell_type": "code",
   "execution_count": 22,
   "id": "e623baf1-13cc-4837-86d7-87cb28223359",
   "metadata": {},
   "outputs": [
    {
     "name": "stdout",
     "output_type": "stream",
     "text": [
      "R² Score: -32715922636736532.0000\n"
     ]
    },
    {
     "name": "stderr",
     "output_type": "stream",
     "text": [
      "C:\\Users\\HP\\anaconda3\\Lib\\site-packages\\sklearn\\base.py:432: UserWarning: X has feature names, but PolynomialFeatures was fitted without feature names\n",
      "  warnings.warn(\n"
     ]
    }
   ],
   "source": [
    "import pickle\n",
    "X = test.drop(columns='price')\n",
    "y = test['price']\n",
    "with open('poly.pkl', 'rb') as f:\n",
    "    poly = pickle.load(f)\n",
    "with open('poly_regression_model.pkl', 'rb') as f:\n",
    "    loaded_model = pickle.load(f)\n",
    "X= poly.transform(X)\n",
    "y_pred = loaded_model.predict(X)\n",
    "r2 = r2_score(y, y_pred)\n",
    "\n",
    "print(f\"R² Score: {r2:.4f}\")"
   ]
  },
  {
   "cell_type": "code",
   "execution_count": 23,
   "id": "b5199f1c-737a-40bc-bdbb-110ef54556b8",
   "metadata": {},
   "outputs": [
    {
     "name": "stdout",
     "output_type": "stream",
     "text": [
      "R² Score: 0.5804\n"
     ]
    },
    {
     "name": "stderr",
     "output_type": "stream",
     "text": [
      "C:\\Users\\HP\\anaconda3\\Lib\\site-packages\\sklearn\\base.py:432: UserWarning: X has feature names, but DecisionTreeRegressor was fitted without feature names\n",
      "  warnings.warn(\n"
     ]
    }
   ],
   "source": [
    "import pickle\n",
    "X = test.drop(columns='price')\n",
    "y = test['price']\n",
    "\n",
    "with open('tree_regression_model.pkl', 'rb') as f:\n",
    "    loaded_model = pickle.load(f)\n",
    "\n",
    "y_pred = loaded_model.predict(X)\n",
    "r2 = r2_score(y, y_pred)\n",
    "\n",
    "print(f\"R² Score: {r2:.4f}\")"
   ]
  },
  {
   "cell_type": "code",
   "execution_count": 24,
   "id": "b95e5795-8610-4093-a44e-2f16a30c5bc7",
   "metadata": {},
   "outputs": [
    {
     "name": "stdout",
     "output_type": "stream",
     "text": [
      "R² Score: 0.7621\n"
     ]
    },
    {
     "name": "stderr",
     "output_type": "stream",
     "text": [
      "C:\\Users\\HP\\anaconda3\\Lib\\site-packages\\sklearn\\base.py:432: UserWarning: X has feature names, but RandomForestRegressor was fitted without feature names\n",
      "  warnings.warn(\n"
     ]
    }
   ],
   "source": [
    "import pickle\n",
    "X = test.drop(columns='price')\n",
    "y = test['price']\n",
    "\n",
    "with open('random_forest_model.pkl', 'rb') as f:\n",
    "    loaded_model = pickle.load(f)\n",
    "\n",
    "y_pred = loaded_model.predict(X)\n",
    "r2 = r2_score(y, y_pred)\n",
    "\n",
    "print(f\"R² Score: {r2:.4f}\")"
   ]
  },
  {
   "cell_type": "code",
   "execution_count": 25,
   "id": "9807ab0a-6b80-4101-afd2-f090ea91f487",
   "metadata": {},
   "outputs": [
    {
     "name": "stdout",
     "output_type": "stream",
     "text": [
      "R² Score: 0.8013\n"
     ]
    },
    {
     "name": "stderr",
     "output_type": "stream",
     "text": [
      "C:\\Users\\HP\\anaconda3\\Lib\\site-packages\\sklearn\\base.py:432: UserWarning: X has feature names, but GradientBoostingRegressor was fitted without feature names\n",
      "  warnings.warn(\n"
     ]
    }
   ],
   "source": [
    "import pickle\n",
    "X = test.drop(columns='price')\n",
    "y = test['price']\n",
    "\n",
    "with open('gradient_boosting_model.pkl', 'rb') as f:\n",
    "    loaded_model = pickle.load(f)\n",
    "\n",
    "y_pred = loaded_model.predict(X)\n",
    "r2 = r2_score(y, y_pred)\n",
    "\n",
    "print(f\"R² Score: {r2:.4f}\")"
   ]
  }
 ],
 "metadata": {
  "kernelspec": {
   "display_name": "Python 3 (ipykernel)",
   "language": "python",
   "name": "python3"
  },
  "language_info": {
   "codemirror_mode": {
    "name": "ipython",
    "version": 3
   },
   "file_extension": ".py",
   "mimetype": "text/x-python",
   "name": "python",
   "nbconvert_exporter": "python",
   "pygments_lexer": "ipython3",
   "version": "3.11.7"
  }
 },
 "nbformat": 4,
 "nbformat_minor": 5
}
